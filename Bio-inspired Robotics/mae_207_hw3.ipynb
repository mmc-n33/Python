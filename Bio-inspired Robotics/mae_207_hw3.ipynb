{
 "cells": [
  {
   "cell_type": "code",
   "execution_count": 1,
   "metadata": {},
   "outputs": [
    {
     "name": "stdout",
     "output_type": "stream",
     "text": [
      "Connected!\n",
      "set_home 1.5734943092974571 -1.5718962098195777\n"
     ]
    },
    {
     "data": {
      "text/plain": [
       "(1.5734040531036386, -1.5718962098195777)"
      ]
     },
     "execution_count": 1,
     "metadata": {},
     "output_type": "execute_result"
    }
   ],
   "source": [
    "import robot\n",
    "import odrive.core\n",
    "import time\n",
    "import math\n",
    "import sympy\n",
    "import numpy as np\n",
    "from numpy.linalg import inv\n",
    "import matplotlib.pyplot as plt\n",
    "\n",
    "\n",
    "from sympy import symbols\n",
    "from sympy import sin, cos, asin, acos, atan, pi, sqrt, diff\n",
    "from sympy.utilities.lambdify import lambdify\n",
    "from sympy import Matrix\n",
    "\n",
    "import IPython\n",
    "from IPython import get_ipython\n",
    "get_ipython().run_line_magic('matplotlib', 'inline')\n",
    "\n",
    "\n",
    "#%matplotlib inline\n",
    "import matplotlib\n",
    "#import numpy as np\n",
    "#import matplotlib.pyplot as plt\n",
    "\n",
    "\n",
    "# Make a new leg variable which is a robot.Leg class\n",
    "\n",
    "#leg = robot.Leg(False)\n",
    "\n",
    "\n",
    "left_pos = 0\n",
    "right_pos = 0\n",
    "\n",
    "pos = [0,3*pi/4]\n",
    "slpt = [.3,.3]\n",
    "vel = [1, 1]\n",
    "\n",
    "#leg.set_joint_pos(right_pos, left_pos)\n",
    "\n",
    "for i in range(10):\n",
    "    ind = i%2\n",
    "    \n",
    "    tim = slpt[ind]\n",
    "    velo = vel[ind] \n",
    "    left_pos = pi - pos[ind]\n",
    "    right_pos = pos[ind]\n",
    "    leg.set_joint_pos(right_pos, left_pos,velo,velo)\n",
    "    time.sleep(tim)\n",
    "leg.move_home()\n",
    "\n",
    "print('pos',leg.joint_0_pos, leg.joint_1_pos)\n",
    "\n"
   ]
  },
  {
   "cell_type": "code",
   "execution_count": 1,
   "metadata": {},
   "outputs": [
    {
     "data": {
      "image/jpeg": "[encoded data removed]",
      "text/html": [
       "\n",
       "        <iframe\n",
       "            width=\"400\"\n",
       "            height=\"300\"\n",
       "            src=\"https://www.youtube.com/embed/AFMsvGrVxT0\"\n",
       "            frameborder=\"0\"\n",
       "            allowfullscreen\n",
       "        ></iframe>\n",
       "        "
      ],
      "text/plain": [
       "<IPython.lib.display.YouTubeVideo at 0x1b8ef9c7e48>"
      ]
     },
     "execution_count": 1,
     "metadata": {},
     "output_type": "execute_result"
    }
   ],
   "source": [
    "from IPython.lib.display import YouTubeVideo\n",
    "YouTubeVideo('AFMsvGrVxT0')"
   ]
  },
  {
   "cell_type": "code",
   "execution_count": null,
   "metadata": {},
   "outputs": [],
   "source": []
  }
 ],
 "metadata": {
  "kernelspec": {
   "display_name": "Python 3",
   "language": "python",
   "name": "python3"
  },
  "language_info": {
   "codemirror_mode": {
    "name": "ipython",
    "version": 3
   },
   "file_extension": ".py",
   "mimetype": "text/x-python",
   "name": "python",
   "nbconvert_exporter": "python",
   "pygments_lexer": "ipython3",
   "version": "3.7.1"
  }
 },
 "nbformat": 4,
 "nbformat_minor": 2
}
