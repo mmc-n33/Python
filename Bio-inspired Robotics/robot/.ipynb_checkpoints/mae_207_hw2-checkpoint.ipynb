{
 "cells": [
  {
   "cell_type": "markdown",
   "metadata": {},
   "source": [
    "# Assignment 2: Inverse kinematics of our leg\n",
    "\n",
    "Use this noteboook to document interacting with the robot class. The primary goal for this assignment is a video recording and plot rendering of your robot leg commanded to move along an *interesting* path (see the bat sign I chose in the readme page). \n",
    "\n",
    "__Deliverables__\n",
    "1. Your leg.py file in the robot python module we are creating. The template provided has blank functions which need to be completed.\n",
    "2. Two videos, a video of your robot tracing out your commanded trajectory (uploaded to youtube), and a gif of robot commanded trajectory (like on the readme page).\n",
    "3. This notebook which you will use to send the move commands for the trajectory.\n",
    "\n",
    "\n",
    "Team #: UNKNOWN\n",
    "\n",
    "Names: Yangting Sun & Mingchen Mao"
   ]
  },
  {
   "cell_type": "markdown",
   "metadata": {},
   "source": [
    "# Getting started"
   ]
  },
  {
   "cell_type": "code",
   "execution_count": null,
   "metadata": {},
   "outputs": [],
   "source": [
    "import robot\n",
    "import scipy.io as spio\n",
    "import time\n",
    "import math\n",
    "import sympy\n",
    "import numpy as np\n",
    "from numpy.linalg import inv\n",
    "import matplotlib.pyplot as plt\n",
    "pi = np.pi\n",
    "from sympy import symbols\n",
    "from sympy import sin, cos, asin, acos, atan, pi, sqrt, diff\n",
    "from sympy.utilities.lambdify import lambdify\n",
    "from sympy import Matrix\n",
    "# Make a new leg variable which is a robot.Leg class\n",
    "leg = robot.Leg()\n",
    "leg.get_joint_pos()\n",
    "print('joint0: %f \\t joint1: %f' % (leg.joint_0_pos, leg.joint_1_pos))\n",
    "\n",
    "# Import trajectory\n",
    "mat = spio.loadmat('heart.mat', squeeze_me=True)\n",
    "x = mat['X']\n",
    "y = mat['Y']\n",
    "x=np.array(x)\n",
    "y=-np.array(y)\n",
    "tt=len(x)"
   ]
  },
  {
   "cell_type": "code",
   "execution_count": null,
   "metadata": {},
   "outputs": [],
   "source": [
    "def draw_leg(theta1, theta2, alpha1, alpha2, ax=False):\n",
    "    \"\"\"\n",
    "    This function takes in the four angles of the leg and draws\n",
    "    the configuration\n",
    "    \"\"\"\n",
    "    \n",
    "    link1 = 7.3\n",
    "    link2 = 14.3\n",
    "    width = 8\n",
    "    \n",
    "    if ax == False:\n",
    "        ax = plt.gca()\n",
    "        ax.cla()\n",
    "\n",
    "    ax.plot(-width / 2, 0, 'ok')\n",
    "    ax.plot(width / 2, 0, 'ok')\n",
    "\n",
    "    ax.plot([-width / 2, 0], [0, 0], 'k')\n",
    "    ax.plot([width / 2, 0], [0, 0], 'k')\n",
    "\n",
    "    ax.plot(-width / 2 + np.array([0, link1 * cos(theta1)]), [0, link1 * sin(theta1)], 'k')\n",
    "    ax.plot(width / 2 + np.array([0, link1 * cos(theta2)]), [0, link1 * sin(theta2)], 'k')\n",
    "\n",
    "    ax.plot(-width / 2 + link1 * cos(theta1) + np.array([0, link2 * cos(alpha1)]), \\\n",
    "            link1 * sin(theta1) + np.array([0, link2 * sin(alpha1)]), 'k');\n",
    "    ax.plot(width / 2 + link1 * cos(theta2) + np.array([0, link2 * cos(alpha2)]), \\\n",
    "            np.array(link1 * sin(theta2) + np.array([0, link2 * sin(alpha2)])), 'k');\n",
    "                \n",
    "    hongx = float(width / 2 + link1 * cos(theta2) + link2 * cos(alpha2))\n",
    "    hongy = float(np.array(link1 * sin(theta2) + link2 * sin(alpha2)))\n",
    "\n",
    "    ax.plot(hongx, hongy, 'ro');\n",
    "\n",
    "    ax.axis([-(link1+link2), (link1+link2), -(link1+link2), (link1+link2)])\n",
    "    ax.invert_yaxis()"
   ]
  },
  {
   "cell_type": "markdown",
   "metadata": {},
   "source": [
    "# Your code below!"
   ]
  },
  {
   "cell_type": "code",
   "execution_count": null,
   "metadata": {},
   "outputs": [],
   "source": [
    "%matplotlib inline\n",
    "# Compute angles based on trajectories\n",
    "t0, t1, a0, a1 = leg.move_trajectory(tt,x,y)\n",
    "\n",
    "for i in range(tt):\n",
    "    draw_leg(t0[i], t1[i], a0[i], a1[i])\n",
    "    plt.plot(x[0:i+1], y[0:i+1])\n",
    "    #plt.show()\n",
    "    plt.pause(0.16)"
   ]
  },
  {
   "cell_type": "code",
   "execution_count": null,
   "metadata": {},
   "outputs": [],
   "source": []
  }
 ],
 "metadata": {
  "kernelspec": {
   "display_name": "Python 3",
   "language": "python",
   "name": "python3"
  },
  "language_info": {
   "codemirror_mode": {
    "name": "ipython",
    "version": 3
   },
   "file_extension": ".py",
   "mimetype": "text/x-python",
   "name": "python",
   "nbconvert_exporter": "python",
   "pygments_lexer": "ipython3",
   "version": "3.6.4"
  }
 },
 "nbformat": 4,
 "nbformat_minor": 2
}
